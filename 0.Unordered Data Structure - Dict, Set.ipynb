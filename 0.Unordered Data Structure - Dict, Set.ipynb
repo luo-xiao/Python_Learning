{
 "cells": [
  {
   "cell_type": "markdown",
   "metadata": {},
   "source": [
    "dict: unordered, mutable, contains {key,value} pairs\n",
    "set: unordered, mutable, contains unique objects"
   ]
  },
  {
   "cell_type": "markdown",
   "metadata": {},
   "source": [
    "# Dict"
   ]
  },
  {
   "cell_type": "markdown",
   "metadata": {},
   "source": [
    "## 1. initialize dict"
   ]
  },
  {
   "cell_type": "code",
   "execution_count": null,
   "metadata": {},
   "outputs": [],
   "source": [
    "dict0 = dict()\n",
    "dict1 = {}\n",
    "dict2 = {'name': 'Xiao', 1: 33}\n",
    "\n",
    "# keys must be initialized\n",
    "dict2.setdefault('key','defaultValue') # initialize when 'key' does not exist; if exists, do nothing"
   ]
  },
  {
   "cell_type": "markdown",
   "metadata": {},
   "source": [
    "## 2. access obj"
   ]
  },
  {
   "cell_type": "code",
   "execution_count": null,
   "metadata": {},
   "outputs": [],
   "source": [
    "dict2 = {'name': 'Xiao', 1: 33}\n",
    "dict2['name'] # lookup by key is fast, no matter how big the dict is!"
   ]
  },
  {
   "cell_type": "markdown",
   "metadata": {},
   "source": [
    "## 3. dict of dict"
   ]
  },
  {
   "cell_type": "code",
   "execution_count": 5,
   "metadata": {},
   "outputs": [
    {
     "name": "stdout",
     "output_type": "stream",
     "text": [
      "{1: {'name': 'xiao', 'age': 25}, 2: {'name': 'yao', 'age': 29}, 3: {'name': 'baby', 'age': 0}}\n",
      "{1: {'age': 25, 'name': 'xiao'},\n",
      " 2: {'age': 29, 'name': 'yao'},\n",
      " 3: {'age': 0, 'name': 'baby'}}\n"
     ]
    }
   ],
   "source": [
    "# everything is an obj in python\n",
    "# dict of dict = table\n",
    "dict3 = {1:{'name':'xiao', 'age':25}, 2:{'name':'yao','age':29}, 3:{'name':'baby', 'age':0}}\n",
    "print(dict3)\n",
    "\n",
    "import pprint\n",
    "pprint.pprint(dict3) # pretty print"
   ]
  },
  {
   "cell_type": "markdown",
   "metadata": {},
   "source": [
    "# Set"
   ]
  },
  {
   "cell_type": "markdown",
   "metadata": {},
   "source": [
    "## 1. initialize set"
   ]
  },
  {
   "cell_type": "code",
   "execution_count": null,
   "metadata": {},
   "outputs": [],
   "source": [
    "set0 = set()\n",
    "set1 = {'a', 'e'}\n",
    "set2 = set('ae')"
   ]
  },
  {
   "cell_type": "markdown",
   "metadata": {},
   "source": [
    "## 2. compare sets"
   ]
  },
  {
   "cell_type": "code",
   "execution_count": null,
   "metadata": {},
   "outputs": [],
   "source": [
    "set3 = set('aeiou')\n",
    "set4 = set('hello')\n",
    "\n",
    "print(set3.union(set4))\n",
    "print(set3.difference(set4))\n",
    "print(set3.intersection(set4))"
   ]
  }
 ],
 "metadata": {
  "kernelspec": {
   "display_name": "Python 3",
   "language": "python",
   "name": "python3"
  },
  "language_info": {
   "codemirror_mode": {
    "name": "ipython",
    "version": 3
   },
   "file_extension": ".py",
   "mimetype": "text/x-python",
   "name": "python",
   "nbconvert_exporter": "python",
   "pygments_lexer": "ipython3",
   "version": "3.6.5"
  }
 },
 "nbformat": 4,
 "nbformat_minor": 2
}

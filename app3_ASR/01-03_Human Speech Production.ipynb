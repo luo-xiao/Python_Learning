{
 "cells": [
  {
   "cell_type": "code",
   "execution_count": 1,
   "metadata": {},
   "outputs": [],
   "source": [
    "#import packages\n",
    "from gtts import gTTS\n",
    "import os"
   ]
  },
  {
   "cell_type": "code",
   "execution_count": 2,
   "metadata": {},
   "outputs": [],
   "source": [
    "#the text you want to convert to human speech\n",
    "mytext = 'Welcome to your first test of Human Speech Production'"
   ]
  },
  {
   "cell_type": "code",
   "execution_count": 4,
   "metadata": {},
   "outputs": [],
   "source": [
    "#select language\n",
    "lang_en = 'en'\n",
    "lang_de = 'de'"
   ]
  },
  {
   "cell_type": "code",
   "execution_count": 9,
   "metadata": {},
   "outputs": [
    {
     "data": {
      "text/plain": [
       "0"
      ]
     },
     "execution_count": 9,
     "metadata": {},
     "output_type": "execute_result"
    }
   ],
   "source": [
    "#converting the text to human speech using gtts(Google text to speech) API\n",
    "myobj1 = gTTS(text=mytext, lang=lang_en, slow=False)\n",
    "\n",
    "#save the converted audio to mp3\n",
    "myobj1.save(\"C:/Users/xiao.luo/Documents/PycharmProjects/ASR/Audio/welcome.mp3\")\n",
    "\n",
    "#play the converted file\n",
    "os.system(\"start C:/Users/xiao.luo/Documents/PycharmProjects/ASR/Audio/welcome.mp3\")"
   ]
  },
  {
   "cell_type": "code",
   "execution_count": 10,
   "metadata": {},
   "outputs": [
    {
     "data": {
      "text/plain": [
       "0"
      ]
     },
     "execution_count": 10,
     "metadata": {},
     "output_type": "execute_result"
    }
   ],
   "source": [
    "#with German TTS for the same text\n",
    "myobj2 = gTTS(text=mytext, lang=lang_de, slow=False)\n",
    "\n",
    "myobj2.save(\"C:/Users/xiao.luo/Documents/PycharmProjects/ASR/Audio/welcome_de.mp3\")\n",
    "\n",
    "os.system(\"start C:/Users/xiao.luo/Documents/PycharmProjects/ASR/Audio/welcome_de.mp3\")"
   ]
  },
  {
   "cell_type": "code",
   "execution_count": null,
   "metadata": {},
   "outputs": [],
   "source": []
  }
 ],
 "metadata": {
  "kernelspec": {
   "display_name": "Python 3",
   "language": "python",
   "name": "python3"
  },
  "language_info": {
   "codemirror_mode": {
    "name": "ipython",
    "version": 3
   },
   "file_extension": ".py",
   "mimetype": "text/x-python",
   "name": "python",
   "nbconvert_exporter": "python",
   "pygments_lexer": "ipython3",
   "version": "3.8.2"
  }
 },
 "nbformat": 4,
 "nbformat_minor": 4
}

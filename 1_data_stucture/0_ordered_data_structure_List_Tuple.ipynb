{
 "cells": [
  {
   "cell_type": "markdown",
   "metadata": {},
   "source": [
    "list: ordered, mutable (can change in runtime)\n",
    "tuple: ordered, immutable"
   ]
  },
  {
   "cell_type": "markdown",
   "metadata": {},
   "source": [
    "# List"
   ]
  },
  {
   "cell_type": "markdown",
   "metadata": {},
   "source": [
    "## 1. initialize a list"
   ]
  },
  {
   "cell_type": "code",
   "execution_count": null,
   "metadata": {},
   "outputs": [],
   "source": [
    "list0 = list() # use BIF to initialize\n",
    "list1 = [] # empty list\n",
    "list2 = [32.0, 'hello', 7, [1,2,3]] # literal list with diff obj types"
   ]
  },
  {
   "cell_type": "markdown",
   "metadata": {},
   "source": [
    "## 2. add objs"
   ]
  },
  {
   "cell_type": "code",
   "execution_count": null,
   "metadata": {},
   "outputs": [],
   "source": [
    "list1 = []\n",
    "list1.append('e') # to the end \n",
    "list1.insert(0,1) # to index 0, add value 1\n",
    "list1.extend([3,4]) # extend list at the end with another list\n",
    "list1"
   ]
  },
  {
   "cell_type": "markdown",
   "metadata": {},
   "source": [
    "## 3. remove objs"
   ]
  },
  {
   "cell_type": "code",
   "execution_count": null,
   "metadata": {},
   "outputs": [],
   "source": [
    "list2 = [32.0, 'hello', 7, [1,2,3]]\n",
    "list2.remove('hello') # remove by value (NOT index)\n",
    "pop = list2.pop() # remove last item by default, return the removed value\n",
    "pop1 = list2.pop(1) # remove item with index 1, return the removed value\n",
    "print(pop)\n",
    "print(pop1)\n",
    "print(list2)"
   ]
  },
  {
   "cell_type": "markdown",
   "metadata": {},
   "source": [
    "## 4. copy list"
   ]
  },
  {
   "cell_type": "code",
   "execution_count": null,
   "metadata": {},
   "outputs": [],
   "source": [
    "list3 = [1,2,3]\n",
    "list3_1 = list3 # copy reference, change one will affect both\n",
    "list3_1.append(4)\n",
    "print(list3_1)\n",
    "print(list3)\n",
    "\n",
    "list3 = [1,2,3]\n",
    "list3_2 = list3.copy() # copy value\n",
    "list3_2.append(4)\n",
    "print(list3_2)\n",
    "print(list3)"
   ]
  },
  {
   "cell_type": "markdown",
   "metadata": {},
   "source": [
    "## 5. access objs"
   ]
  },
  {
   "cell_type": "code",
   "execution_count": null,
   "metadata": {},
   "outputs": [],
   "source": [
    "# square bracket notation\n",
    "list4 = ['S', 'i', 'n', ' ', 'm', 'i', 'e', 'd', 'o']\n",
    "print(list4[0])\n",
    "print(list4[-1])\n",
    "print(list4[0:3:1]) # start, stop(EXCLUSIVE), step\n",
    "\n",
    "''.join(list4) # join list objs in a string"
   ]
  },
  {
   "cell_type": "markdown",
   "metadata": {},
   "source": [
    "## 6. sort list"
   ]
  },
  {
   "cell_type": "code",
   "execution_count": null,
   "metadata": {},
   "outputs": [],
   "source": [
    "list5 = [1, 3, 4, 2, 8, 5, 7]\n",
    "sorted(list5)"
   ]
  },
  {
   "cell_type": "markdown",
   "metadata": {},
   "source": [
    "# Tuple"
   ]
  },
  {
   "cell_type": "markdown",
   "metadata": {},
   "source": [
    "## 1. initialize tuple"
   ]
  },
  {
   "cell_type": "code",
   "execution_count": 2,
   "metadata": {},
   "outputs": [],
   "source": [
    "tuple0 = tuple() \n",
    "tuple0 = () \n",
    "typle1 = ('a', ) # tuple with single value MUST include a trailing comma\n",
    "tuple2 = ('a', 'e')"
   ]
  }
 ],
 "metadata": {
  "kernelspec": {
   "display_name": "Python 3",
   "language": "python",
   "name": "python3"
  },
  "language_info": {
   "codemirror_mode": {
    "name": "ipython",
    "version": 3
   },
   "file_extension": ".py",
   "mimetype": "text/x-python",
   "name": "python",
   "nbconvert_exporter": "python",
   "pygments_lexer": "ipython3",
   "version": "3.6.5"
  }
 },
 "nbformat": 4,
 "nbformat_minor": 2
}

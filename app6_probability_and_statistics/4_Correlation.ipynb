{
 "cells": [
  {
   "cell_type": "markdown",
   "metadata": {},
   "source": [
    "# Correlation\n",
    "* The Pearson Correlation Coefficient\n",
    "* R-squared Coefficient of Determination"
   ]
  },
  {
   "cell_type": "markdown",
   "metadata": {},
   "source": [
    "<hr>\n",
    "\n",
    "#### The Pearson Correlation Coefficient\n",
    "\n",
    "*(see more details in 1_Describing_Distributions.ipynb)*\n",
    "\n",
    "<strong>Covariance</strong> provides a measure of how related the variables are to each other:\n",
    "\\begin{align}\n",
    "\\tag{9.1}\n",
    "\\text{COV}(x,y)=\\frac{\\textstyle\\sum_{i=1}^n (x_i-\\bar{x})(y_i-\\bar{y})}{n}\n",
    "\\end{align}\n",
    "\n",
    "<strong>Correlation</strong> builds on covariance and overcomes this drawback via rescaling, thereby measuring (linear) relatedness exclusively. The correlation coefficient is often denoted with $r$ or $\\rho$ and is defined by:\n",
    "\\begin{align}\n",
    "\\tag{9.2}\n",
    "P_{x,y}=\\frac{COV(x,y)}{\\sigma_x \\sigma_y}\n",
    "\\end{align}\n"
   ]
  },
  {
   "cell_type": "code",
   "execution_count": 9,
   "metadata": {},
   "outputs": [],
   "source": [
    "import numpy as np\n",
    "import scipy.stats as st\n",
    "import matplotlib.pyplot as plt\n",
    "import seaborn as sns"
   ]
  },
  {
   "cell_type": "code",
   "execution_count": 10,
   "metadata": {},
   "outputs": [],
   "source": [
    "iris = sns.load_dataset('iris')\n",
    "\n",
    "x = iris.sepal_length\n",
    "y = iris.petal_length"
   ]
  },
  {
   "cell_type": "code",
   "execution_count": 12,
   "metadata": {},
   "outputs": [
    {
     "data": {
      "image/png": "[encoded data removed]",
      "text/plain": [
       "<Figure size 432x288 with 1 Axes>"
      ]
     },
     "metadata": {},
     "output_type": "display_data"
    }
   ],
   "source": [
    "sns.set_style('darkgrid')\n",
    "_ = sns.scatterplot(x=x, y=y)"
   ]
  },
  {
   "cell_type": "code",
   "execution_count": 13,
   "metadata": {},
   "outputs": [],
   "source": [
    "n = iris.sepal_width.size\n",
    "xbar, ybar = x.mean(), y.mean()"
   ]
  },
  {
   "cell_type": "code",
   "execution_count": 14,
   "metadata": {},
   "outputs": [
    {
     "data": {
      "text/plain": [
       "1.2658200000000006"
      ]
     },
     "execution_count": 14,
     "metadata": {},
     "output_type": "execute_result"
    }
   ],
   "source": [
    "product = []\n",
    "for i in range(n):\n",
    "    product.append((x[i]-xbar)*(y[i]-ybar))\n",
    "\n",
    "cov = sum(product)/n\n",
    "cov"
   ]
  },
  {
   "cell_type": "code",
   "execution_count": 15,
   "metadata": {},
   "outputs": [
    {
     "data": {
      "text/plain": [
       "0.8717537758865835"
      ]
     },
     "execution_count": 15,
     "metadata": {},
     "output_type": "execute_result"
    }
   ],
   "source": [
    "r = cov/(np.std(x)*np.std(y))\n",
    "r"
   ]
  },
  {
   "cell_type": "markdown",
   "metadata": {},
   "source": [
    "We reached this point in *Probability*. Now, as for ow to determine a p-value, we first calculate the t-statistics...\n",
    "\n",
    "\\begin{align}\n",
    "\\tag{9.3}\n",
    "t=r\\sqrt{\\frac{n-2}{1-r^2}}\n",
    "\\end{align}"
   ]
  },
  {
   "cell_type": "code",
   "execution_count": 19,
   "metadata": {},
   "outputs": [
    {
     "data": {
      "text/plain": [
       "21.646019345759807"
      ]
     },
     "execution_count": 19,
     "metadata": {},
     "output_type": "execute_result"
    }
   ],
   "source": [
    "t = r*((n-2)/(1-r**2))**(1/2)\n",
    "t"
   ]
  },
  {
   "cell_type": "code",
   "execution_count": 23,
   "metadata": {},
   "outputs": [
    {
     "data": {
      "text/plain": [
       "1.0386674194495906e-47"
      ]
     },
     "execution_count": 23,
     "metadata": {},
     "output_type": "execute_result"
    }
   ],
   "source": [
    "# convert to p-value \n",
    "def p_from_t(my_t, my_n):\n",
    "    return 2 * st.t.cdf(-abs(my_t), my_n-1) # 2nd arg to t.cdf() is \"degrees of freedom\"\n",
    "\n",
    "p = p_from_t(t, n-1)\n",
    "p"
   ]
  },
  {
   "cell_type": "code",
   "execution_count": 24,
   "metadata": {},
   "outputs": [
    {
     "data": {
      "text/plain": [
       "-46.98352349096045"
      ]
     },
     "execution_count": 24,
     "metadata": {},
     "output_type": "execute_result"
    }
   ],
   "source": [
    "np.log10(p)"
   ]
  },
  {
   "cell_type": "markdown",
   "metadata": {},
   "source": [
    "This confirms that iris sepal length is extremely positively correlated with petal length.\n",
    "\n",
    "All of the above can be done in a single line with SciPy's <code>pearsonr()</code> method:"
   ]
  },
  {
   "cell_type": "code",
   "execution_count": 25,
   "metadata": {},
   "outputs": [
    {
     "data": {
      "text/plain": [
       "(0.8717537758865832, 1.0386674194497525e-47)"
      ]
     },
     "execution_count": 25,
     "metadata": {},
     "output_type": "execute_result"
    }
   ],
   "source": [
    "st.pearsonr(x, y)  # output=(r, p-value)"
   ]
  },
  {
   "cell_type": "markdown",
   "metadata": {},
   "source": [
    "And, for reference, here's a correlation that is not significant ($r\\approx0$)"
   ]
  },
  {
   "cell_type": "code",
   "execution_count": 26,
   "metadata": {},
   "outputs": [
    {
     "data": {
      "image/png": "[encoded data removed]",
      "text/plain": [
       "<Figure size 432x288 with 1 Axes>"
      ]
     },
     "metadata": {},
     "output_type": "display_data"
    }
   ],
   "source": [
    "_ = sns.scatterplot(x=iris.sepal_length, y=iris.sepal_width)"
   ]
  },
  {
   "cell_type": "code",
   "execution_count": 27,
   "metadata": {},
   "outputs": [
    {
     "data": {
      "text/plain": [
       "(-0.11756978413300204, 0.15189826071144918)"
      ]
     },
     "execution_count": 27,
     "metadata": {},
     "output_type": "execute_result"
    }
   ],
   "source": [
    "st.pearsonr(iris.sepal_length, iris.sepal_width)"
   ]
  },
  {
   "cell_type": "markdown",
   "metadata": {},
   "source": [
    "<hr>\n",
    "\n",
    "#### R-squared Coefficient of Determination\n",
    "\n",
    "...also known as $r^2$, this is the proportion of variance in one variable explained by another.\\\n",
    "It can range from 0 to 1 and it is simply the square of the Pearson $r$:"
   ]
  },
  {
   "cell_type": "code",
   "execution_count": 28,
   "metadata": {},
   "outputs": [
    {
     "data": {
      "text/plain": [
       "0.7599546457725157"
      ]
     },
     "execution_count": 28,
     "metadata": {},
     "output_type": "execute_result"
    }
   ],
   "source": [
    "rsq = r**2\n",
    "rsq"
   ]
  },
  {
   "cell_type": "markdown",
   "metadata": {},
   "source": [
    "In this case, it indicates that 76% of the variance in iris petal length can be explained by sepal length. (This is easier to understand where one variable could straightforwardly drive variation in the other; more on that in Segment2.)"
   ]
  },
  {
   "cell_type": "code",
   "execution_count": 29,
   "metadata": {},
   "outputs": [
    {
     "data": {
      "text/plain": [
       "0.013822654141080698"
      ]
     },
     "execution_count": 29,
     "metadata": {},
     "output_type": "execute_result"
    }
   ],
   "source": [
    "st.pearsonr(iris.sepal_length, iris.sepal_width)[0]**2"
   ]
  },
  {
   "cell_type": "markdown",
   "metadata": {},
   "source": [
    "For comparison, only 1.4% of the variance in sepal width can be explained by sepal length."
   ]
  },
  {
   "cell_type": "markdown",
   "metadata": {},
   "source": [
    "<hr>\n",
    "\n",
    "#### Correcting for Multiple Comparisons\n",
    "\n",
    "Approaches for adjusting $\\alpha$ for multiple comparisons exist, among which the most widely-used solution is the <strong>Bonferroni correction</strong> (named after the 20th c. Italian mathematician Carlo Emilio Bonferroni)\n",
    "\n",
    "For the number of tests ($m$), the significance threshold for each individual test is $\\frac{\\alpha}{m}$."
   ]
  }
 ],
 "metadata": {
  "kernelspec": {
   "display_name": "Python 3.8.2 ('py3.8')",
   "language": "python",
   "name": "python3"
  },
  "language_info": {
   "codemirror_mode": {
    "name": "ipython",
    "version": 3
   },
   "file_extension": ".py",
   "mimetype": "text/x-python",
   "name": "python",
   "nbconvert_exporter": "python",
   "pygments_lexer": "ipython3",
   "version": "3.8.2"
  },
  "orig_nbformat": 4,
  "vscode": {
   "interpreter": {
    "hash": "00bc4eb9173f889b302c79c0f660c4ffaf1a9f3e9afab508c43a28d6184676e9"
   }
  }
 },
 "nbformat": 4,
 "nbformat_minor": 2
}

{
 "cells": [
  {
   "cell_type": "markdown",
   "metadata": {},
   "source": [
    "# Function\n",
    "style guide: https://www.python.org/dev/peps/pep-0008/"
   ]
  },
  {
   "cell_type": "code",
   "execution_count": null,
   "metadata": {},
   "outputs": [],
   "source": [
    "def descriptive_name(arg1:type, arg2:type=defaultValue) -> returnType:\n",
    "    '''this is a documentation'''\n",
    "    # code with certain fucntion\n",
    "    return someValue"
   ]
  },
  {
   "cell_type": "markdown",
   "metadata": {},
   "source": [
    "# Module"
   ]
  },
  {
   "cell_type": "markdown",
   "metadata": {},
   "source": [
    "## Where can modules be found by interpreter\n",
    "### a. current working dir -> always works\n",
    "### b. interpreter's site-packages locations -> self-written modules must be installed into it (see below in detail)\n",
    "### c. standard library locations -> never add or remove modules from it"
   ]
  },
  {
   "cell_type": "markdown",
   "metadata": {},
   "source": [
    "\n",
    "#### < b. install module into site-packages> \n",
    "\n",
    "#### 1.create a distribution description\n",
    "#### In the same folder as our module file create: \n",
    "####     - README.txt\n",
    "####     - setup.py"
   ]
  },
  {
   "cell_type": "code",
   "execution_count": null,
   "metadata": {},
   "outputs": [],
   "source": [
    "from setuptools import setup\n",
    "\n",
    "setup(\n",
    "    name = 'moduleName'\n",
    "    version = '1.0'\n",
    "    description = 'what the module does'\n",
    "    author = 'Xiao'\n",
    "    author_email = '@'\n",
    "    url = 'com'\n",
    "    py_modules = ['pyFileName'], # include all names of .py files in this module (w/o .py)\n",
    ")"
   ]
  },
  {
   "cell_type": "markdown",
   "metadata": {},
   "source": [
    "#### 2. create a distribution file\n",
    "#### In cmd with path of module file, type: \n",
    "#### this will generate an installable ZIP file in new folder dist"
   ]
  },
  {
   "cell_type": "code",
   "execution_count": null,
   "metadata": {},
   "outputs": [],
   "source": [
    "moduleFolder>>>py -3 setup.py sdist"
   ]
  },
  {
   "cell_type": "markdown",
   "metadata": {},
   "source": [
    "#### 3. install the distribution file\n",
    "#### In cmd with path of dist, type:"
   ]
  },
  {
   "cell_type": "code",
   "execution_count": null,
   "metadata": {},
   "outputs": [],
   "source": [
    "moduleFolder\\dist>>> py -3 -m pip install xx.zip"
   ]
  }
 ],
 "metadata": {
  "kernelspec": {
   "display_name": "Python 3",
   "language": "python",
   "name": "python3"
  },
  "language_info": {
   "codemirror_mode": {
    "name": "ipython",
    "version": 3
   },
   "file_extension": ".py",
   "mimetype": "text/x-python",
   "name": "python",
   "nbconvert_exporter": "python",
   "pygments_lexer": "ipython3",
   "version": "3.6.5"
  }
 },
 "nbformat": 4,
 "nbformat_minor": 2
}

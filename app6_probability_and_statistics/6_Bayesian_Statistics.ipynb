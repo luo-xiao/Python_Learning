{
 "cells": [
  {
   "cell_type": "markdown",
   "metadata": {},
   "source": [
    "# Intro to Statistics\n",
    "\n",
    "* Segment3: Bayesian Statistics\n",
    "    * Bayes' Theorem\n",
    "* Resources for further study of Probability and Statistics"
   ]
  },
  {
   "cell_type": "markdown",
   "metadata": {},
   "source": [
    "<hr>\n",
    "\n",
    "#### Bayes' Theorem\n",
    "\n",
    "...allows us to find $P(x|y)$ when we have $P(y|x)$:\n",
    "\n",
    "\\begin{align}\n",
    "\\tag{11.1}\n",
    "P(x|y) &= \\frac{P(x)P(y|x)}{P(y)}\\\\\n",
    "\\tag{11.2}\n",
    "&= \\frac{P(x)P(y|x)}{\\displaystyle\\sum_{x} P(y|x)P(x)}\n",
    "\\end{align}\n",
    "example: https://xkcd.com/1132/ "
   ]
  },
  {
   "cell_type": "markdown",
   "metadata": {},
   "source": [
    "<hr>\n",
    "\n",
    "#### Resources\n",
    "\n",
    "* Books:\n",
    "    * Wasserman (2004) *All of Statistics* (free from Springer) https://egrcc.github.io/docs/math/all-of-statistics.pdf\n",
    "    * Gelman & Hill (2006) *Data Analysis Using Regression and Multilevel/Hierarchical Models*\n",
    "    * Jaynes (2003) *Probability Theory*\n"
   ]
  }
 ],
 "metadata": {
  "kernelspec": {
   "display_name": "Python 3.8.2 ('py3.8')",
   "language": "python",
   "name": "python3"
  },
  "language_info": {
   "name": "python",
   "version": "3.8.2"
  },
  "orig_nbformat": 4,
  "vscode": {
   "interpreter": {
    "hash": "00bc4eb9173f889b302c79c0f660c4ffaf1a9f3e9afab508c43a28d6184676e9"
   }
  }
 },
 "nbformat": 4,
 "nbformat_minor": 2
}

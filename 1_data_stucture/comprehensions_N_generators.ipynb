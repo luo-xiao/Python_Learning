{
 "cells": [
  {
   "attachments": {},
   "cell_type": "markdown",
   "metadata": {},
   "source": [
    "This note is taken from Pete Fison's article: \\\n",
    "*A crash course in Python “comprehensions” and “generators”* \\\n",
    "https://towardsdev.com/a-crash-course-in-python-comprehensions-and-generators-f069c8f8ca38"
   ]
  },
  {
   "attachments": {},
   "cell_type": "markdown",
   "metadata": {},
   "source": [
    "💡 <strong>REPL</strong> means \"read evaluate python loop\""
   ]
  },
  {
   "attachments": {},
   "cell_type": "markdown",
   "metadata": {},
   "source": [
    "#### Comprehensions"
   ]
  },
  {
   "cell_type": "code",
   "execution_count": 1,
   "metadata": {},
   "outputs": [
    {
     "data": {
      "text/plain": [
       "['Apples', 'Bananas', 'Pears', 'Pears']"
      ]
     },
     "execution_count": 1,
     "metadata": {},
     "output_type": "execute_result"
    }
   ],
   "source": [
    "# traditional \"for-loop\"\n",
    "fruits = [\"apples\", \"bananas\", \"pears\", \"pears\"]\n",
    "new_words = []\n",
    "for word in fruits:\n",
    "    new_words.append(word.title())\n",
    "\n",
    "new_words"
   ]
  },
  {
   "attachments": {},
   "cell_type": "markdown",
   "metadata": {},
   "source": [
    "* list comprehensions"
   ]
  },
  {
   "cell_type": "code",
   "execution_count": 2,
   "metadata": {},
   "outputs": [
    {
     "data": {
      "text/plain": [
       "['Apples', 'Bananas', 'Pears', 'Pears']"
      ]
     },
     "execution_count": 2,
     "metadata": {},
     "output_type": "execute_result"
    }
   ],
   "source": [
    "# \"active translation\" into new language: comprehensions\n",
    "[word.title() for word in fruits]"
   ]
  },
  {
   "attachments": {},
   "cell_type": "markdown",
   "metadata": {},
   "source": [
    "* set comprehensions"
   ]
  },
  {
   "cell_type": "code",
   "execution_count": 7,
   "metadata": {},
   "outputs": [
    {
     "data": {
      "text/plain": [
       "{'Apples', 'Bananas', 'Pears'}"
      ]
     },
     "execution_count": 7,
     "metadata": {},
     "output_type": "execute_result"
    }
   ],
   "source": [
    "{word.title() for word in fruits}"
   ]
  },
  {
   "attachments": {},
   "cell_type": "markdown",
   "metadata": {},
   "source": [
    "* dictionary comprehensions"
   ]
  },
  {
   "cell_type": "code",
   "execution_count": 8,
   "metadata": {},
   "outputs": [
    {
     "data": {
      "text/plain": [
       "{'Apples': 1, 'Bananas': 1, 'Pears': 2}"
      ]
     },
     "execution_count": 8,
     "metadata": {},
     "output_type": "execute_result"
    }
   ],
   "source": [
    "{x.title(): fruits.count(x) for x in fruits}"
   ]
  },
  {
   "attachments": {},
   "cell_type": "markdown",
   "metadata": {},
   "source": [
    "#### Generators\n",
    "They are like list comprehensions but described as \"lazy\" because they don't evaluate what's inside them until the very last minute when they're actually needed. They're great for improving the speed of code and minimising memory use."
   ]
  },
  {
   "cell_type": "code",
   "execution_count": 3,
   "metadata": {},
   "outputs": [
    {
     "data": {
      "text/plain": [
       "<generator object <genexpr> at 0x000001495082D700>"
      ]
     },
     "execution_count": 3,
     "metadata": {},
     "output_type": "execute_result"
    }
   ],
   "source": [
    "(word.title() for word in fruits)"
   ]
  },
  {
   "cell_type": "code",
   "execution_count": 5,
   "metadata": {},
   "outputs": [
    {
     "data": {
      "text/plain": [
       "'Apples'"
      ]
     },
     "execution_count": 5,
     "metadata": {},
     "output_type": "execute_result"
    }
   ],
   "source": [
    "generator = _   # In REPL, \"_\" means \"the previous output\"\n",
    "next(generator)"
   ]
  },
  {
   "cell_type": "code",
   "execution_count": 6,
   "metadata": {},
   "outputs": [
    {
     "data": {
      "text/plain": [
       "['Bananas', 'Pears', 'Pears']"
      ]
     },
     "execution_count": 6,
     "metadata": {},
     "output_type": "execute_result"
    }
   ],
   "source": [
    "list(generator)  # \"Apples\" has already been removed"
   ]
  },
  {
   "attachments": {},
   "cell_type": "markdown",
   "metadata": {},
   "source": [
    "<hr>\n",
    "\n",
    "#### Applications of comprehensions & generators"
   ]
  },
  {
   "attachments": {},
   "cell_type": "markdown",
   "metadata": {},
   "source": [
    "1. unpacking values"
   ]
  },
  {
   "cell_type": "code",
   "execution_count": 9,
   "metadata": {},
   "outputs": [
    {
     "data": {
      "text/plain": [
       "[('apples', 'round'), ('bananas', 'curved')]"
      ]
     },
     "execution_count": 9,
     "metadata": {},
     "output_type": "execute_result"
    }
   ],
   "source": [
    "fruits = [(\"apples\", \"2\", \"round\"), (\"bananas\", \"8\", \"curved\")]\n",
    "[(x,z) for x,y,z in fruits]"
   ]
  },
  {
   "cell_type": "code",
   "execution_count": 10,
   "metadata": {},
   "outputs": [
    {
     "data": {
      "text/plain": [
       "['Apples are normally green', 'Bananas are normally yellow and curved']"
      ]
     },
     "execution_count": 10,
     "metadata": {},
     "output_type": "execute_result"
    }
   ],
   "source": [
    "fruits = [(\"apples\", \"green\"), (\"bananas\", \"yellow\", \"curved\")]\n",
    "[f\"{x.title()} are normally {' and '.join(y)}\" for x, *y in fruits]   \n",
    "# \"*\" can be used to unpack into a list of zero or more values\n",
    "# f\"...\" is called f-strings, a useful python tool"
   ]
  },
  {
   "attachments": {},
   "cell_type": "markdown",
   "metadata": {},
   "source": [
    "2. filtering values"
   ]
  },
  {
   "cell_type": "code",
   "execution_count": 11,
   "metadata": {},
   "outputs": [
    {
     "data": {
      "text/plain": [
       "{'Apples': 1, 'Pears': 2}"
      ]
     },
     "execution_count": 11,
     "metadata": {},
     "output_type": "execute_result"
    }
   ],
   "source": [
    "fruits = [\"apples\", \"pears\", \"pears\", \"\", None, False, 0, [], {}, ()]\n",
    "\n",
    "{x.title(): fruits.count(x) for x in fruits if x}"
   ]
  },
  {
   "cell_type": "code",
   "execution_count": 12,
   "metadata": {},
   "outputs": [
    {
     "data": {
      "text/plain": [
       "{'Apples'}"
      ]
     },
     "execution_count": 12,
     "metadata": {},
     "output_type": "execute_result"
    }
   ],
   "source": [
    "exclusions = \"PEARS ORANGES MELONS\".split()\n",
    "\n",
    "{x.title() for x in fruits if x and not x.upper() in exclusions}"
   ]
  },
  {
   "cell_type": "code",
   "execution_count": 13,
   "metadata": {},
   "outputs": [
    {
     "data": {
      "text/plain": [
       "{'<falsey>', 'APPLES', 'PEARS'}"
      ]
     },
     "execution_count": 13,
     "metadata": {},
     "output_type": "execute_result"
    }
   ],
   "source": [
    "{x.upper() if x else \"<falsey>\" for x in fruits}   # python set doesn't necessarily keep the order of items"
   ]
  },
  {
   "attachments": {},
   "cell_type": "markdown",
   "metadata": {},
   "source": [
    "3. flattening nested list"
   ]
  },
  {
   "cell_type": "code",
   "execution_count": 16,
   "metadata": {},
   "outputs": [
    {
     "data": {
      "text/plain": [
       "['egg1', 'egg2', 'egg3', 'egg4', 'egg5']"
      ]
     },
     "execution_count": 16,
     "metadata": {},
     "output_type": "execute_result"
    }
   ],
   "source": [
    "nest1 = ['egg1', 'egg2']\n",
    "nest2 = ['egg3', 'egg4', 'egg5']\n",
    "trees = [nest1, nest2]\n",
    "\n",
    "[x for y in trees for x in y]"
   ]
  },
  {
   "cell_type": "code",
   "execution_count": 17,
   "metadata": {},
   "outputs": [
    {
     "data": {
      "text/plain": [
       "['Paterdale', 'Border', 'Dalmation', 'Poodle', 'Whippet']"
      ]
     },
     "execution_count": 17,
     "metadata": {},
     "output_type": "execute_result"
    }
   ],
   "source": [
    "dog_breeds = {\n",
    "    \"Terrier\": [\"Paterdale\", \"Border\"],\n",
    "    \"Other\": [\"Dalmation\", \"Poodle\", \"Whippet\"],\n",
    "}\n",
    "\n",
    "[dog for breed in dog_breeds.values() for dog in breed]"
   ]
  }
 ],
 "metadata": {
  "kernelspec": {
   "display_name": "py3.10",
   "language": "python",
   "name": "python3"
  },
  "language_info": {
   "codemirror_mode": {
    "name": "ipython",
    "version": 3
   },
   "file_extension": ".py",
   "mimetype": "text/x-python",
   "name": "python",
   "nbconvert_exporter": "python",
   "pygments_lexer": "ipython3",
   "version": "3.10.6"
  },
  "orig_nbformat": 4,
  "vscode": {
   "interpreter": {
    "hash": "36675ba6f996bd3a263bcce30fb05c9d12ce322dc5eac3dfaf517a785dc42112"
   }
  }
 },
 "nbformat": 4,
 "nbformat_minor": 2
}

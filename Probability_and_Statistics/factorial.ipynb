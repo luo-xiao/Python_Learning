from math import factorial

def coinflip_prob(n, k):
    n_choose_k = factorial(n)/(factorial(k)*factorial(n-k))
    return n_choose_k/2**n

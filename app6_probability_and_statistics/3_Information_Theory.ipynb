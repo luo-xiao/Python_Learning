{
 "cells": [
  {
   "cell_type": "markdown",
   "metadata": {},
   "source": [
    "# Information Theory"
   ]
  },
  {
   "cell_type": "markdown",
   "metadata": {},
   "source": [
    "The <strong>self-information</strong> formula is:\n",
    "\n",
    "\\begin{align}\n",
    "I(x)=-\\log{P(x)}\n",
    "\\end{align}"
   ]
  },
  {
   "cell_type": "code",
   "execution_count": 3,
   "metadata": {},
   "outputs": [],
   "source": [
    "import numpy as np\n",
    "\n",
    "def self_info(my_p):\n",
    "    return -1*np.log(my_p)"
   ]
  },
  {
   "cell_type": "code",
   "execution_count": 4,
   "metadata": {},
   "outputs": [
    {
     "data": {
      "text/plain": [
       "-0.0"
      ]
     },
     "execution_count": 4,
     "metadata": {},
     "output_type": "execute_result"
    }
   ],
   "source": [
    "self_info(1)"
   ]
  },
  {
   "cell_type": "code",
   "execution_count": 5,
   "metadata": {},
   "outputs": [
    {
     "data": {
      "text/plain": [
       "2.3025850929940455"
      ]
     },
     "execution_count": 5,
     "metadata": {},
     "output_type": "execute_result"
    }
   ],
   "source": [
    "self_info(0.1)"
   ]
  },
  {
   "cell_type": "code",
   "execution_count": 6,
   "metadata": {},
   "outputs": [
    {
     "data": {
      "text/plain": [
       "4.605170185988091"
      ]
     },
     "execution_count": 6,
     "metadata": {},
     "output_type": "execute_result"
    }
   ],
   "source": [
    "self_info(0.01)"
   ]
  },
  {
   "cell_type": "code",
   "execution_count": 7,
   "metadata": {},
   "outputs": [
    {
     "data": {
      "text/plain": [
       "0.6931471805599453"
      ]
     },
     "execution_count": 7,
     "metadata": {},
     "output_type": "execute_result"
    }
   ],
   "source": [
    "self_info(0.5)"
   ]
  },
  {
   "cell_type": "code",
   "execution_count": 8,
   "metadata": {},
   "outputs": [
    {
     "data": {
      "text/plain": [
       "1.3862943611198906"
      ]
     },
     "execution_count": 8,
     "metadata": {},
     "output_type": "execute_result"
    }
   ],
   "source": [
    "self_info(0.5) + self_info(0.5)"
   ]
  },
  {
   "cell_type": "markdown",
   "metadata": {},
   "source": [
    "Depending on what logarithm base we use, the units of self-information vary. Most frequently, the units are either:  \n",
    "* <strong>nats</strong>:  \n",
    "    * Natural logarithm, as above with <code>np.log()</code>\n",
    "    * Typical in ML\n",
    "* <strong>bits</strong>:\n",
    "    * Base-2 logarithm\n",
    "    * A.k.a. <strong>shannons</strong>\n",
    "    * Typical in computer science\n",
    "\n",
    "So, the self-information of $P(x)=0.1$ is ~2.3 nats."
   ]
  },
  {
   "cell_type": "markdown",
   "metadata": {},
   "source": [
    "<hr>\n",
    "\n",
    "#### Shannon and Differential Entropy\n",
    "\n",
    "To quantify uncertainty about a probability distribution (as opposed to a single event), we can use <strong>Shannon entropy</strong>, which is denoted as $H(x)$ or $H(P)$:\n",
    "\n",
    "\\begin{align}\n",
    "H(x) &= \\mathbb{E}_{x\\sim{P}} [I(x)]\\\\\n",
    "     &= -\\mathbb{E}_{x\\sim{P}} [\\log{P(x)}]\n",
    "\\end{align}"
   ]
  },
  {
   "cell_type": "markdown",
   "metadata": {},
   "source": [
    "Conveys the expected informational content associated with an event drawn from the distribution:\n",
    "* <strong>Low entropy</strong>\n",
    "    * Distribution is ~deterministic and outcomes are ~certain\n",
    "    * E.g., weighted coin always lands heads up ($P(1)=1$)\n",
    "\n",
    "* <strong>High entropy</strong>\n",
    "    * Outcomes are uncertain\n",
    "    * Uniform distribution can be highest entropy\n",
    "    * E.g., coin is as likely to be heads as tails ($P(0)=P(1)=0.5$)"
   ]
  },
  {
   "cell_type": "markdown",
   "metadata": {},
   "source": [
    "As an example, Shannon entropy for a binary random variable (e.g., coin flip) is:\n",
    "\n",
    "\\begin{align}\n",
    "(p-1)\\log{(1-p)} - p\\log{p}\n",
    "\\end{align}"
   ]
  },
  {
   "cell_type": "code",
   "execution_count": 9,
   "metadata": {},
   "outputs": [],
   "source": [
    "def binary_entropy(my_p):\n",
    "    return (my_p-1)*np.log(1-my_p) - my_p*np.log(my_p)"
   ]
  },
  {
   "cell_type": "markdown",
   "metadata": {},
   "source": [
    "will throw <code>nan</code> with $p=0$ (always tails) or $p=1$ (always heads), but we can get close:"
   ]
  },
  {
   "cell_type": "code",
   "execution_count": 10,
   "metadata": {},
   "outputs": [
    {
     "data": {
      "text/plain": [
       "0.00012512920464949012"
      ]
     },
     "execution_count": 10,
     "metadata": {},
     "output_type": "execute_result"
    }
   ],
   "source": [
    "binary_entropy(0.00001)"
   ]
  },
  {
   "cell_type": "code",
   "execution_count": 11,
   "metadata": {},
   "outputs": [
    {
     "data": {
      "text/plain": [
       "0.00012512920464901166"
      ]
     },
     "execution_count": 11,
     "metadata": {},
     "output_type": "execute_result"
    }
   ],
   "source": [
    "binary_entropy(0.99999)"
   ]
  },
  {
   "cell_type": "code",
   "execution_count": 12,
   "metadata": {},
   "outputs": [
    {
     "data": {
      "text/plain": [
       "0.3250829733914482"
      ]
     },
     "execution_count": 12,
     "metadata": {},
     "output_type": "execute_result"
    }
   ],
   "source": [
    "binary_entropy(0.9)"
   ]
  },
  {
   "cell_type": "code",
   "execution_count": 14,
   "metadata": {},
   "outputs": [
    {
     "data": {
      "text/plain": [
       "0.6931471805599453"
      ]
     },
     "execution_count": 14,
     "metadata": {},
     "output_type": "execute_result"
    }
   ],
   "source": [
    "binary_entropy(0.5) #highest Shannon entropy we can get from coin flip"
   ]
  },
  {
   "cell_type": "code",
   "execution_count": 16,
   "metadata": {},
   "outputs": [
    {
     "data": {
      "image/png": "[encoded data removed]",
      "text/plain": [
       "<Figure size 432x288 with 1 Axes>"
      ]
     },
     "metadata": {
      "needs_background": "light"
     },
     "output_type": "display_data"
    }
   ],
   "source": [
    "# to verify Shannon entropy is the highest when P(x)=0.5\n",
    "\n",
    "p = np.linspace(0.001, 0.999, 1000)  # start, finish, n points\n",
    "H = binary_entropy(p)\n",
    "\n",
    "import matplotlib.pyplot as plt\n",
    "fig, ax = plt.subplots()\n",
    "plt.title('Shannon entropy of Bernoulli trial')\n",
    "plt.xlabel('p')\n",
    "plt.ylabel('H (nats)')\n",
    "_ = ax.plot(p,H)"
   ]
  },
  {
   "cell_type": "markdown",
   "metadata": {},
   "source": [
    "<strong>Differential entropy</strong>: simply the term for Shannon entropy if distribution is PDF"
   ]
  },
  {
   "cell_type": "markdown",
   "metadata": {},
   "source": [
    "<hr>\n",
    "\n",
    "#### Kullback-Leibler Divergence\n",
    "\n",
    "<strong>KL divergence</strong> enables us to quantify the relative Shannon (or differential) entropy of two probability distributions that are over the same random variable x.\n",
    "\n",
    "For example,if we have one probability distribution described by $P(x)$ and another by $Q(x)$, their KL divergence (denoted $D_{KL}) is:\n",
    "\n",
    "\\begin{align}\n",
    "D_{KL} (P\\|Q) = \\mathbb{E}_{x\\sim{P}}[\\log{P(x)} - \\log{Q(x)}]\n",
    "\\end{align}"
   ]
  },
  {
   "cell_type": "markdown",
   "metadata": {},
   "source": [
    "#### Cross-Entropy\n",
    "\n",
    "Cross-entropy is a concept derived from KL divergence. Its detail is beyond the scope of this series except to mention that it provides us with the <strong>cross-entropy cost</strong> function.\n",
    "\n",
    "This cost function is ubiquitous in neural networks as it's the cost function of choice for predicting discrete, categorical outcomes. E.g., for a binary clasifier, the cross-entropy cost ($C$) is:\n",
    "\n",
    "\\begin{align}\n",
    "C = -(y \\cdot \\log{\\hat{y}} + (1-y) \\cdot \\log(1-\\hat{y}))\n",
    "\\end{align}"
   ]
  },
  {
   "cell_type": "code",
   "execution_count": 17,
   "metadata": {},
   "outputs": [],
   "source": [
    "def cross_entropy(y, a):\n",
    "    return -1*(y*np.log(a) + (1-y)*np.log(1-a))"
   ]
  },
  {
   "cell_type": "code",
   "execution_count": 18,
   "metadata": {},
   "outputs": [
    {
     "data": {
      "text/plain": [
       "0.00030004500900199243"
      ]
     },
     "execution_count": 18,
     "metadata": {},
     "output_type": "execute_result"
    }
   ],
   "source": [
    "cross_entropy(1, 0.9997)"
   ]
  },
  {
   "cell_type": "code",
   "execution_count": 19,
   "metadata": {},
   "outputs": [
    {
     "data": {
      "text/plain": [
       "0.10536051565782628"
      ]
     },
     "execution_count": 19,
     "metadata": {},
     "output_type": "execute_result"
    }
   ],
   "source": [
    "cross_entropy(1, 0.9)"
   ]
  },
  {
   "cell_type": "code",
   "execution_count": 20,
   "metadata": {},
   "outputs": [
    {
     "data": {
      "text/plain": [
       "0.5108256237659907"
      ]
     },
     "execution_count": 20,
     "metadata": {},
     "output_type": "execute_result"
    }
   ],
   "source": [
    "cross_entropy(1, 0.6)"
   ]
  },
  {
   "cell_type": "code",
   "execution_count": 21,
   "metadata": {},
   "outputs": [
    {
     "data": {
      "text/plain": [
       "1.2039728043259361"
      ]
     },
     "execution_count": 21,
     "metadata": {},
     "output_type": "execute_result"
    }
   ],
   "source": [
    "cross_entropy(1, 0.3)"
   ]
  }
 ],
 "metadata": {
  "kernelspec": {
   "display_name": "Python 3.8.2 ('py3.8')",
   "language": "python",
   "name": "python3"
  },
  "language_info": {
   "codemirror_mode": {
    "name": "ipython",
    "version": 3
   },
   "file_extension": ".py",
   "mimetype": "text/x-python",
   "name": "python",
   "nbconvert_exporter": "python",
   "pygments_lexer": "ipython3",
   "version": "3.8.2"
  },
  "orig_nbformat": 4,
  "vscode": {
   "interpreter": {
    "hash": "00bc4eb9173f889b302c79c0f660c4ffaf1a9f3e9afab508c43a28d6184676e9"
   }
  }
 },
 "nbformat": 4,
 "nbformat_minor": 2
}
